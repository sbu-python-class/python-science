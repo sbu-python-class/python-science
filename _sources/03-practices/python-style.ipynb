{
 "cells": [
  {
   "cell_type": "markdown",
   "metadata": {},
   "source": [
    "# Python Style (from the PEP-0008)"
   ]
  },
  {
   "cell_type": "markdown",
   "metadata": {},
   "source": [
    "This notebook shows the various code snippets from the PEP-0008 style guide: http://legacy.python.org/dev/peps/pep-0008/"
   ]
  },
  {
   "cell_type": "markdown",
   "metadata": {},
   "source": [
    "## code lay-out"
   ]
  },
  {
   "cell_type": "markdown",
   "metadata": {},
   "source": [
    "### indentation"
   ]
  },
  {
   "cell_type": "markdown",
   "metadata": {},
   "source": [
    "Indentation should use 4 spaces per indentation level (and NOT tabs).  Python 3 does not allow for a mixture of tabs and spaces.  Note that a lot of editors will map the tab key into a sequence of spaces\n",
    "\n",
    "Continuation lines should align wrapped elements either vertically inside parentheses, brackets, or braces, or using a hanging indent (with no arguments on the first line)\n",
    "\n",
    "note: to prevent ipython from throwing errors that some things are not defined, not all the code is in a code cell."
   ]
  },
  {
   "cell_type": "raw",
   "metadata": {},
   "source": [
    "# Aligned with opening delimiter\n",
    "foo = long_function_name(var_one, var_two,\n",
    "                         var_three, var_four)\n",
    "\n",
    "# More indentation included to distinguish this from the rest.\n",
    "def long_function_name(\n",
    "        var_one, var_two, var_three,\n",
    "        var_four):\n",
    "    print(var_one)\n",
    "    \n",
    "# Note that the following is not allowed since you cannot distinguish \n",
    "# between the function body and the arguments\n",
    "def long_function_name(\n",
    "    var_one, var_two, var_three,\n",
    "    var_four):\n",
    "    print(var_one)\n"
   ]
  },
  {
   "cell_type": "markdown",
   "metadata": {},
   "source": [
    "### line length"
   ]
  },
  {
   "cell_type": "markdown",
   "metadata": {},
   "source": [
    "Lines should be a maximum of 79 characters.  \n",
    "\n",
    "The 80-column terminal goes back to the early terminals and page-widths for printers and is pretty much a good standard for any language.\n",
    "\n",
    "Comments and docstrings should be limited to 72-characters\n",
    "\n",
    "Implied line continuation is automatic inside parenthesis, brackets"
   ]
  },
  {
   "cell_type": "code",
   "execution_count": null,
   "metadata": {
    "collapsed": false,
    "jupyter": {
     "outputs_hidden": false
    }
   },
   "outputs": [],
   "source": []
  }
 ],
 "metadata": {
  "kernelspec": {
   "display_name": "Python 3 (ipykernel)",
   "language": "python",
   "name": "python3"
  },
  "language_info": {
   "codemirror_mode": {
    "name": "ipython",
    "version": 3
   },
   "file_extension": ".py",
   "mimetype": "text/x-python",
   "name": "python",
   "nbconvert_exporter": "python",
   "pygments_lexer": "ipython3",
   "version": "3.10.2"
  }
 },
 "nbformat": 4,
 "nbformat_minor": 4
}
